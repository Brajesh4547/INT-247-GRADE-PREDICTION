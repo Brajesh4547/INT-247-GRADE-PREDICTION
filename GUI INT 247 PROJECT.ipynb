{
 "cells": [
  {
   "cell_type": "code",
   "execution_count": 22,
   "metadata": {},
   "outputs": [
    {
     "name": "stdout",
     "output_type": "stream",
     "text": [
      "\n"
     ]
    }
   ],
   "source": [
    "\n",
    "\n",
    "import os\n",
    "from  sklearn import  datasets\n",
    "from sklearn.model_selection import train_test_split\n",
    "from sklearn.metrics import accuracy_score\n",
    "from sklearn.linear_model import LogisticRegression\n",
    "from tkinter import *\n",
    "from tkinter import messagebox\n",
    "from tkinter import*\n",
    "def main():\n",
    "    global roots    \n",
    "    roots = Tk()\n",
    "    \n",
    "    \n",
    "    \n",
    "    t = roots.geometry('1400x900')\n",
    "    print(t)\n",
    "    roots['bg'] = 'blue'\n",
    "    roots.title('Details')\n",
    "    \n",
    "    intro = Label(roots, text='STUDENT GRADE PREDICTION ',anchor=\"center\", background='red', fg='white', font=(\"Bold\", 50))\n",
    "    intro.grid(sticky=N,padx=40,pady=30,columnspan=4)\n",
    "    n1 = Label(roots, text='Classification Technique', background='green', fg='white', font=(\"Cursive\", 20))\n",
    "    n1.grid(row=1, sticky=W,column=0, padx=30, pady=40)\n",
    "    #n1 = Label(roots, text='Just click on the button given below to apply your desired algo!!!!', background='green', fg='white', font=(\"Cursive\", 20))\n",
    "    #n1.grid(row=2, sticky=W,column=0, padx=30, pady=40)\n",
    "    n3 = Label(roots, text='FINAL RESULT DATASET', background='green', fg='white', font=(\"Cursive\", 20))\n",
    "    n3.grid(row=1, sticky=E,column=3, padx=30, pady=40)\n",
    "    testButton = Button(roots, text='SUPPORT VECTOR MACHINE',fg='red',width=54,height=2)\n",
    "    testButton.grid(column=0, row=3, padx=10,pady=10,sticky=NE)\n",
    "    trainButton = Button(roots, text='DECISION TREE',fg='red',width=54,height=2)\n",
    "    trainButton.grid(column=0, row=4, padx=10,pady=10,sticky=NE)\n",
    "    trainButton2 = Button(roots, text='KNEAREST NEIGHBOUR',fg='red',width=54,height=2)\n",
    "    trainButton2.grid(column=0, row=5, padx=10,pady=10,sticky=NE)\n",
    "    visButton = Button(roots, text='RANDOM FOREST',fg='red',width=54,height=2)\n",
    "    visButton.grid(column=0,   row=6, padx=10,pady=10,sticky=NE)\n",
    "    compareButton = Button(roots, text='LOGISTIC REGRESSION',fg='red',width=54,height=2)\n",
    "    compareButton.grid(column=0, row=7, padx=10,pady=10,sticky=NE)\n",
    "    compareButton1 = Button(roots, text='NAIVE BAYES',fg='red',width=54,height=2)\n",
    "    compareButton1.grid(column=0, row=8, padx=10,pady=10,sticky=NE)\n",
    "    \n",
    "    testButton = Button(roots, text='CLICK ON IT TO MOVE TO NEXT PAGE',fg='red',width=30,height=2)\n",
    "    testButton.grid(column=0, row=9, padx=10,pady=10,sticky=NE)\n",
    "    \n",
    "    testButton = Button(roots, text='ABOUT DEVELOPERS',fg='red',width=30,height=2)\n",
    "    testButton.grid(column=3, row=3, padx=10,pady=10,sticky=E)\n",
    "    testButton = Button(roots, text='UNIQUE FEATURES',fg='red',width=30,height=2)\n",
    "    testButton.grid(column=3, row=4, padx=10,pady=10,sticky=E)\n",
    "    testButton = Button(roots, text='INOVATIVE IDEAS',fg='red',width=30,height=2)\n",
    "    testButton.grid(column=3, row=5, padx=10,pady=10,sticky=E)\n",
    "    \n",
    "    lbl = Label(roots, text=\"Created by Brajesh Kumar Singh\")\n",
    "    lbl.grid(column=1, row=10,padx=10,pady=10)\n",
    "    roots.mainloop()\n",
    "def my():\n",
    "    master.destroy()\n",
    "    main()\n",
    " \n",
    "\n",
    "main()\n"
   ]
  },
  {
   "cell_type": "code",
   "execution_count": null,
   "metadata": {},
   "outputs": [],
   "source": []
  },
  {
   "cell_type": "code",
   "execution_count": null,
   "metadata": {},
   "outputs": [],
   "source": []
  },
  {
   "cell_type": "code",
   "execution_count": null,
   "metadata": {},
   "outputs": [],
   "source": []
  }
 ],
 "metadata": {
  "kernelspec": {
   "display_name": "Python 3",
   "language": "python",
   "name": "python3"
  },
  "language_info": {
   "codemirror_mode": {
    "name": "ipython",
    "version": 3
   },
   "file_extension": ".py",
   "mimetype": "text/x-python",
   "name": "python",
   "nbconvert_exporter": "python",
   "pygments_lexer": "ipython3",
   "version": "3.7.0"
  }
 },
 "nbformat": 4,
 "nbformat_minor": 2
}
